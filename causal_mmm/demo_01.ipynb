{
 "cells": [
  {
   "cell_type": "code",
   "execution_count": 1,
   "metadata": {},
   "outputs": [],
   "source": [
    "from train_mmm import TrainMMM\n",
    "import numpy as np"
   ]
  },
  {
   "cell_type": "code",
   "execution_count": 2,
   "metadata": {},
   "outputs": [],
   "source": [
    "np.random.seed(0)\n",
    "X = np.random.rand(100, 3)\n",
    "true_coef = np.array([1.5, 2.0, 3.0])\n",
    "y = X @ true_coef + np.random.randn(100)"
   ]
  },
  {
   "cell_type": "code",
   "execution_count": 3,
   "metadata": {},
   "outputs": [
    {
     "name": "stdout",
     "output_type": "stream",
     "text": [
      "Optimized coefficients: [-0.0497861   1.09132478  1.97995663  3.25323099]\n"
     ]
    }
   ],
   "source": [
    "positive_indices = np.array([1, 2, 3])\n",
    "negative_indices = np.array([])\n",
    "reg_alpha = 0\n",
    "\n",
    "model = TrainMMM(\n",
    "    X=X,\n",
    "    y=y,\n",
    "    reg_alpha=reg_alpha,\n",
    "    positive_indices=positive_indices,\n",
    "    negative_indices=negative_indices,\n",
    "    adstock_rate=0,\n",
    "    hill_alpha=0.1,\n",
    "    hill_gamma=0.5,\n",
    ")\n",
    "\n",
    "optimized_coef = model.train()\n",
    "    \n",
    "print(\"Optimized coefficients:\", optimized_coef)"
   ]
  },
  {
   "cell_type": "code",
   "execution_count": 4,
   "metadata": {},
   "outputs": [
    {
     "data": {
      "text/plain": [
       "0.5941532933314586"
      ]
     },
     "execution_count": 4,
     "metadata": {},
     "output_type": "execute_result"
    }
   ],
   "source": [
    "predictions = model.predict()\n",
    "model.calculate_r2_score()"
   ]
  }
 ],
 "metadata": {
  "kernelspec": {
   "display_name": "venv",
   "language": "python",
   "name": "python3"
  },
  "language_info": {
   "codemirror_mode": {
    "name": "ipython",
    "version": 3
   },
   "file_extension": ".py",
   "mimetype": "text/x-python",
   "name": "python",
   "nbconvert_exporter": "python",
   "pygments_lexer": "ipython3",
   "version": "3.11.4"
  }
 },
 "nbformat": 4,
 "nbformat_minor": 2
}
