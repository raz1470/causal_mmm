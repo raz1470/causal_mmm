{
 "cells": [
  {
   "cell_type": "code",
   "execution_count": 1,
   "metadata": {},
   "outputs": [
    {
     "name": "stderr",
     "output_type": "stream",
     "text": [
      "WARNING (pytensor.configdefaults): g++ not available, if using conda: `conda install m2w64-toolchain`\n",
      "WARNING (pytensor.configdefaults): g++ not detected!  PyTensor will be unable to compile C-implementations and will default to Python. Performance may be severely degraded. To remove this warning, set PyTensor flags cxx to an empty string.\n",
      "WARNING (pytensor.tensor.blas): Using NumPy C-API based implementation for BLAS functions.\n"
     ]
    }
   ],
   "source": [
    "import pandas as pd\n",
    "import numpy as np\n",
    "from statsmodels.stats.outliers_influence import variance_inflation_factor\n",
    "from sklearn.preprocessing import MaxAbsScaler\n",
    "from sklearn.metrics import root_mean_squared_error\n",
    "import cvxpy as cp\n",
    "from hyperopt import fmin, tpe, hp, Trials\n",
    "import matplotlib.pyplot as plt\n",
    "import seaborn as sns\n",
    "import data_generator as dg"
   ]
  },
  {
   "cell_type": "code",
   "execution_count": 60,
   "metadata": {},
   "outputs": [],
   "source": [
    "# data generator - need to use adstock and saturation functions\n",
    "\n",
    "# scale y and change saturation lamda\n",
    "# ad max adstock lag in timesteps\n",
    "# MLFlow\n",
    "\n",
    "# validate model\n",
    "\n",
    "# response curves\n",
    "\n",
    "# calibration\n",
    "\n",
    "# budget optimisation"
   ]
  },
  {
   "cell_type": "markdown",
   "metadata": {},
   "source": [
    "# Data generator"
   ]
  },
  {
   "cell_type": "code",
   "execution_count": null,
   "metadata": {},
   "outputs": [],
   "source": [
    "np.random.seed(10)\n",
    "\n",
    "# Set parameters for data generator\n",
    "start_date = \"2021-01-01\"\n",
    "periods = 52 * 3\n",
    "channels = [\"tv\", \"social\", \"search\"]\n",
    "adstock_alphas = [0.50, 0.25, 0.05]\n",
    "saturation_lamdas = [1.5, 2.5, 3.5]\n",
    "betas = [350, 150, 50]\n",
    "spend_scalars = [10, 15, 20]\n",
    "\n",
    "df = dg.data_generator(start_date, periods, channels, spend_scalars, adstock_alphas, saturation_lamdas, betas)\n",
    "\n",
    "# Scale betas using maximum sales value - this is so it is comparable to the fitted beta from pymc (pymc does feature and target scaling using MaxAbsScaler from sklearn)\n",
    "betas_scaled = [\n",
    "    ((df[\"tv_sales\"] / df[\"sales\"].max()) / df[\"tv_saturated\"]).mean(),\n",
    "    ((df[\"social_sales\"] / df[\"sales\"].max()) / df[\"social_saturated\"]).mean(),\n",
    "    ((df[\"search_sales\"] / df[\"sales\"].max()) / df[\"search_saturated\"]).mean()\n",
    "]\n",
    "\n",
    "# Calculate contributions\n",
    "contributions = np.asarray([\n",
    "    round((df[\"tv_sales\"].sum() / df[\"sales\"].sum()), 2),\n",
    "    round((df[\"social_sales\"].sum() / df[\"sales\"].sum()), 2),\n",
    "    round((df[\"search_sales\"].sum() / df[\"sales\"].sum()), 2),\n",
    "    round((df[\"demand\"].sum() / df[\"sales\"].sum()), 2)\n",
    "])\n",
    "\n",
    "df[[\"date\", \"demand\", \"demand_proxy\", \"tv_spend_raw\", \"social_spend_raw\", \"search_spend_raw\", \"sales\"]]"
   ]
  },
  {
   "cell_type": "code",
   "execution_count": 63,
   "metadata": {},
   "outputs": [],
   "source": [
    "# set date column\n",
    "date_col = \"week_ending\"\n",
    "\n",
    "# set features\n",
    "features = [\"spend_ppc_nb\",\n",
    "            \"spend_social\",\n",
    "            \"demand\",\n",
    "]\n",
    "\n",
    "# set target\n",
    "target = \"conversions\"\n",
    "\n",
    "# retrieve features and target\n",
    "X = df[features].values\n",
    "y = df[target].values"
   ]
  },
  {
   "cell_type": "markdown",
   "metadata": {},
   "source": [
    "# Pre-processing"
   ]
  },
  {
   "cell_type": "markdown",
   "metadata": {},
   "source": [
    "### Train/test indexs"
   ]
  },
  {
   "cell_type": "code",
   "execution_count": 68,
   "metadata": {},
   "outputs": [],
   "source": [
    "# set train/test params\n",
    "burn_in_obs = 4\n",
    "out_of_time_obs = 8\n",
    "\n",
    "# calculate indexs\n",
    "train_idx = slice(burn_in_obs, len(df) - out_of_time_obs)\n",
    "out_of_time_idx = slice(len(df) - out_of_time_obs, len(df))"
   ]
  },
  {
   "cell_type": "markdown",
   "metadata": {},
   "source": [
    "### Set coefficient signs"
   ]
  },
  {
   "cell_type": "code",
   "execution_count": 69,
   "metadata": {},
   "outputs": [],
   "source": [
    "# set coefficient upper and lower bounds\n",
    "lower_bounds = [None, 0, 0, 0, 0, 0]\n",
    "upper_bounds = [None, None, None, None, None, None]"
   ]
  },
  {
   "cell_type": "markdown",
   "metadata": {},
   "source": [
    "# Transformations"
   ]
  },
  {
   "cell_type": "markdown",
   "metadata": {},
   "source": [
    "### Carryover"
   ]
  },
  {
   "cell_type": "code",
   "execution_count": 70,
   "metadata": {},
   "outputs": [],
   "source": [
    "def transform_adstock(X, adstock_decays):\n",
    "    adstock_decays = np.asarray(adstock_decays)\n",
    "    adstocked = np.zeros_like(X)\n",
    "    adstocked[0, :] = X[0, :]\n",
    "    for t in range(1, X.shape[0]):\n",
    "        adstocked[t, :] = X[t, :] + adstock_decays * adstocked[t - 1, :]\n",
    "    return adstocked"
   ]
  },
  {
   "cell_type": "markdown",
   "metadata": {},
   "source": [
    "### Saturation"
   ]
  },
  {
   "cell_type": "code",
   "execution_count": 71,
   "metadata": {},
   "outputs": [],
   "source": [
    "def transform_logistic(X, logistic_lams):\n",
    "    logistic_lams = np.asarray(logistic_lams)\n",
    "    return (1 - np.exp(-logistic_lams * X)) / (1 + np.exp(-logistic_lams * X))"
   ]
  },
  {
   "cell_type": "markdown",
   "metadata": {},
   "source": [
    "### Scale features"
   ]
  },
  {
   "cell_type": "code",
   "execution_count": 119,
   "metadata": {},
   "outputs": [],
   "source": [
    "def fit_feature_scaler(X):\n",
    "    return MaxAbsScaler().fit(X)"
   ]
  },
  {
   "cell_type": "code",
   "execution_count": 120,
   "metadata": {},
   "outputs": [],
   "source": [
    "def apply_feature_scaler(transformer, X):  \n",
    "    return transformer.transform(X)"
   ]
  },
  {
   "cell_type": "markdown",
   "metadata": {},
   "source": [
    "### Add intercept"
   ]
  },
  {
   "cell_type": "code",
   "execution_count": 74,
   "metadata": {},
   "outputs": [],
   "source": [
    "def add_intercept(X):\n",
    "    intercept = np.ones((X.shape[0], 1))\n",
    "    return np.hstack((intercept, X))"
   ]
  },
  {
   "cell_type": "markdown",
   "metadata": {},
   "source": [
    "# Train model"
   ]
  },
  {
   "cell_type": "markdown",
   "metadata": {},
   "source": [
    "### Train model"
   ]
  },
  {
   "cell_type": "code",
   "execution_count": 76,
   "metadata": {},
   "outputs": [],
   "source": [
    "def train_model(X, y, reg_alpha, lower_bounds, upper_bounds):\n",
    "    \n",
    "    coef = cp.Variable(X.shape[1])\n",
    "    ridge_penalty = cp.norm(coef, 2)\n",
    "    objective = cp.Minimize(cp.sum_squares(X @ coef - y) + reg_alpha * ridge_penalty)\n",
    "    \n",
    "    constraints = (\n",
    "    [coef[i] >= lower_bounds[i] for i in range(X.shape[1]) if lower_bounds[i] is not None] +\n",
    "    [coef[i] <= upper_bounds[i] for i in range(X.shape[1]) if upper_bounds[i] is not None]\n",
    "    )\n",
    "\n",
    "    problem = cp.Problem(objective, constraints)\n",
    "    problem.solve()\n",
    "    print(problem.status)\n",
    "    \n",
    "    return coef.value"
   ]
  },
  {
   "cell_type": "code",
   "execution_count": 77,
   "metadata": {},
   "outputs": [],
   "source": [
    "def predict(X, optimized_coef):\n",
    "    return X @ optimized_coef"
   ]
  },
  {
   "cell_type": "code",
   "execution_count": 78,
   "metadata": {},
   "outputs": [],
   "source": [
    "def rmse(y_true, y_pred):\n",
    "    return round(root_mean_squared_error(y_true, y_pred), 2)"
   ]
  },
  {
   "cell_type": "markdown",
   "metadata": {},
   "source": [
    "### Hyper-parameter tuning"
   ]
  },
  {
   "cell_type": "code",
   "execution_count": 129,
   "metadata": {},
   "outputs": [
    {
     "name": "stdout",
     "output_type": "stream",
     "text": [
      "  0%|          | 0/500 [00:00<?, ?trial/s, best loss=?]"
     ]
    },
    {
     "name": "stdout",
     "output_type": "stream",
     "text": [
      "optimal                                                \n",
      "optimal                                                \n",
      "optimal                                                             \n",
      "optimal                                                             \n",
      "optimal                                                             \n",
      "optimal                                                             \n",
      "optimal                                                             \n",
      "optimal                                                             \n",
      "optimal                                                             \n",
      "optimal                                                              \n",
      "optimal                                                              \n",
      "optimal                                                               \n",
      "optimal                                                               \n",
      "optimal                                                               \n",
      "optimal                                                               \n",
      "optimal                                                               \n",
      "optimal                                                               \n",
      "optimal                                                               \n",
      "optimal                                                               \n",
      "optimal                                                              \n",
      "optimal                                                              \n",
      "optimal                                                              \n",
      "optimal                                                              \n",
      "optimal                                                              \n",
      "optimal                                                              \n",
      "optimal                                                              \n",
      "optimal                                                              \n",
      "optimal                                                              \n",
      "optimal                                                              \n",
      "optimal                                                              \n",
      "optimal                                                              \n",
      "optimal                                                              \n",
      "optimal                                                              \n",
      "optimal                                                              \n",
      "optimal                                                              \n",
      "optimal                                                              \n",
      "optimal                                                              \n",
      "optimal                                                              \n",
      "optimal                                                              \n",
      "optimal                                                              \n",
      "optimal                                                              \n",
      "optimal                                                              \n",
      "optimal                                                              \n",
      "optimal                                                              \n",
      "optimal                                                              \n",
      "optimal                                                              \n",
      "optimal                                                              \n",
      "optimal                                                              \n",
      "optimal                                                              \n",
      "optimal                                                              \n",
      "optimal                                                              \n",
      "optimal                                                              \n",
      "optimal                                                              \n",
      "optimal                                                              \n",
      "optimal                                                              \n",
      "optimal                                                              \n",
      "optimal                                                              \n",
      "optimal                                                              \n",
      "optimal                                                              \n",
      "optimal                                                              \n",
      "optimal                                                              \n",
      "optimal                                                              \n",
      "optimal                                                              \n",
      "optimal                                                              \n",
      "optimal                                                              \n",
      "optimal                                                              \n",
      "optimal                                                              \n",
      "optimal                                                              \n",
      "optimal                                                              \n",
      "optimal                                                              \n",
      "optimal                                                              \n",
      "optimal                                                              \n",
      "optimal                                                              \n",
      "optimal                                                              \n",
      "optimal                                                              \n",
      "optimal                                                              \n",
      "optimal                                                              \n",
      "optimal                                                              \n",
      "optimal                                                              \n",
      "optimal                                                              \n",
      "optimal                                                              \n",
      "optimal                                                              \n",
      "optimal                                                              \n",
      "optimal                                                              \n",
      "optimal                                                              \n",
      "optimal                                                              \n",
      "optimal                                                              \n",
      "optimal                                                              \n",
      "optimal                                                               \n",
      "optimal                                                              \n",
      "optimal                                                              \n",
      "optimal                                                              \n",
      "optimal                                                              \n",
      "optimal                                                              \n",
      "optimal                                                              \n",
      "optimal                                                              \n",
      "optimal                                                              \n",
      "optimal                                                              \n",
      "optimal                                                              \n",
      "optimal                                                              \n",
      "optimal                                                              \n",
      "optimal                                                               \n",
      "optimal                                                               \n",
      "optimal                                                               \n",
      "optimal                                                               \n",
      "optimal                                                               \n",
      "optimal                                                               \n",
      "optimal                                                               \n",
      "optimal                                                               \n",
      "optimal                                                               \n",
      "optimal                                                               \n",
      "optimal                                                               \n",
      "optimal                                                               \n",
      "optimal                                                               \n",
      "optimal                                                               \n",
      "optimal                                                               \n",
      "optimal                                                               \n",
      "optimal                                                               \n",
      "optimal                                                               \n",
      "optimal                                                               \n",
      "optimal                                                               \n",
      "optimal                                                               \n",
      "optimal                                                               \n",
      "optimal                                                               \n",
      "optimal                                                               \n",
      "optimal                                                               \n",
      "optimal                                                               \n",
      "optimal                                                               \n",
      "optimal                                                               \n",
      "optimal                                                               \n",
      "optimal                                                               \n",
      "optimal                                                               \n",
      "optimal                                                               \n",
      "optimal                                                               \n",
      "optimal                                                               \n",
      "optimal                                                               \n",
      "optimal                                                               \n",
      "optimal                                                               \n",
      "optimal                                                               \n",
      "optimal                                                               \n",
      "optimal                                                               \n",
      "optimal                                                               \n",
      "optimal                                                               \n",
      "optimal                                                               \n",
      "optimal                                                               \n",
      "optimal                                                               \n",
      "optimal                                                               \n",
      "optimal                                                               \n",
      "optimal                                                               \n",
      "optimal                                                               \n",
      "optimal                                                               \n",
      "optimal                                                               \n",
      "optimal                                                                \n",
      "optimal                                                                \n",
      "optimal                                                                \n",
      "optimal                                                                \n",
      "optimal                                                                \n",
      "optimal                                                                \n",
      "optimal                                                                \n",
      "optimal                                                                \n",
      "optimal                                                                \n",
      "optimal                                                                \n",
      "optimal                                                                \n",
      "optimal                                                                \n",
      "optimal                                                                \n",
      "optimal                                                                \n",
      "optimal                                                                \n",
      "optimal                                                                \n",
      "optimal                                                                \n",
      "optimal                                                                \n",
      "optimal                                                                \n",
      "optimal                                                                \n",
      "optimal                                                                \n",
      "optimal                                                                \n",
      "optimal                                                                \n",
      "optimal                                                                \n",
      "optimal                                                                \n",
      "optimal                                                                \n",
      "optimal                                                                \n",
      "optimal                                                                \n",
      "optimal                                                                \n",
      "optimal                                                                \n",
      "optimal                                                                \n",
      "optimal                                                                \n",
      "optimal                                                                \n",
      "optimal                                                                \n",
      "optimal                                                                \n",
      "optimal                                                                \n",
      "optimal                                                                \n",
      "optimal                                                                \n",
      "optimal                                                                \n",
      "optimal                                                                \n",
      "optimal                                                                \n",
      "optimal                                                                \n",
      "optimal                                                                \n",
      "optimal                                                                \n",
      "optimal                                                                \n",
      "optimal                                                                \n",
      "optimal                                                                \n",
      "optimal                                                                \n",
      "optimal                                                                \n",
      "optimal                                                                \n",
      "optimal                                                                \n",
      "optimal                                                                \n",
      "optimal                                                                \n",
      "optimal                                                                \n",
      "optimal                                                                \n",
      "optimal                                                                \n",
      "optimal                                                                \n",
      "optimal                                                                \n",
      "optimal                                                                \n",
      "optimal                                                                \n",
      "optimal                                                                \n",
      "optimal                                                                \n",
      "optimal                                                                \n",
      "optimal                                                                \n",
      "optimal                                                                \n",
      "optimal                                                                \n",
      "optimal                                                                \n",
      "optimal                                                                \n",
      "optimal                                                                \n",
      "optimal                                                                \n",
      "optimal                                                                \n",
      "optimal                                                                \n",
      "optimal                                                                \n",
      "optimal                                                                \n",
      "optimal                                                                \n",
      "optimal                                                                \n",
      "optimal                                                                \n",
      "optimal                                                                \n",
      "optimal                                                                \n",
      "optimal                                                                \n",
      "optimal                                                                \n",
      "optimal                                                                \n",
      "optimal                                                                \n",
      "optimal                                                                \n",
      "optimal                                                                \n",
      "optimal                                                                \n",
      "optimal                                                                \n",
      "optimal                                                                \n",
      "optimal                                                                \n",
      "optimal                                                                \n",
      "optimal                                                                \n",
      "optimal                                                                \n",
      "optimal                                                                \n",
      "optimal                                                                \n",
      "optimal                                                                \n",
      "optimal                                                                \n",
      "optimal                                                                \n",
      "optimal                                                                \n",
      "optimal                                                                \n",
      "optimal                                                                \n",
      "optimal                                                                \n",
      "optimal                                                                \n",
      "optimal                                                                \n",
      "optimal                                                                \n",
      "optimal                                                                \n",
      "optimal                                                                \n",
      "optimal                                                                \n",
      "optimal                                                                \n",
      "optimal                                                                \n",
      "optimal                                                                \n",
      "optimal                                                                \n",
      "optimal                                                                \n",
      "optimal                                                                \n",
      "optimal                                                                \n",
      "optimal                                                                \n",
      "optimal                                                                \n",
      "optimal                                                                \n",
      "optimal                                                                \n",
      "optimal                                                                \n",
      "optimal                                                                \n",
      "optimal                                                                \n",
      "optimal                                                                \n",
      "optimal                                                                \n",
      "optimal                                                                \n",
      "optimal                                                                \n",
      "optimal                                                                \n",
      "optimal                                                                \n",
      "optimal                                                                \n",
      "optimal                                                                \n",
      "optimal                                                                \n",
      "optimal                                                                \n",
      "optimal                                                                \n",
      "optimal                                                                \n",
      "optimal                                                                \n",
      "optimal                                                                \n",
      "optimal                                                                \n",
      "optimal                                                                \n",
      "optimal                                                                \n",
      "optimal                                                                \n",
      "optimal                                                                \n",
      "optimal                                                                \n",
      "optimal                                                                \n",
      "optimal                                                                \n",
      "optimal                                                                \n",
      "optimal                                                                \n",
      "optimal                                                                \n",
      "optimal                                                                \n",
      "optimal                                                                \n",
      "optimal                                                                \n",
      "optimal                                                                \n",
      "optimal                                                                \n",
      "optimal                                                                \n",
      "optimal                                                                \n",
      "optimal                                                                \n",
      "optimal                                                                \n",
      "optimal                                                                \n",
      "optimal                                                                \n",
      "optimal                                                                \n",
      "optimal                                                                \n",
      "optimal                                                                \n",
      "optimal                                                                \n",
      "optimal                                                                \n",
      "optimal                                                                \n",
      "optimal                                                                \n",
      "optimal                                                                \n",
      "optimal                                                                \n",
      "optimal                                                                \n",
      "optimal                                                                \n",
      "optimal                                                                \n",
      "optimal                                                                \n",
      "optimal                                                                \n",
      "optimal                                                                \n",
      "optimal                                                                \n",
      "optimal                                                                \n",
      "optimal                                                                \n",
      "optimal                                                                \n",
      "optimal                                                                \n",
      "optimal                                                                \n",
      "optimal                                                                \n",
      "optimal                                                                \n",
      "optimal                                                                \n",
      "optimal                                                                \n",
      "optimal                                                                \n",
      "optimal                                                                \n",
      "optimal                                                                \n",
      "optimal                                                                \n",
      "optimal                                                                \n",
      "optimal                                                                \n",
      "optimal                                                                \n",
      "optimal                                                                \n",
      "optimal                                                                \n",
      "optimal                                                                \n",
      "optimal                                                                \n",
      "optimal                                                                \n",
      "optimal                                                                \n",
      "optimal                                                                \n",
      "optimal                                                                \n",
      "optimal                                                                \n",
      "optimal                                                                \n",
      "optimal                                                                \n",
      "optimal                                                                \n",
      "optimal                                                                \n",
      "optimal                                                                \n",
      "optimal                                                                \n",
      "optimal                                                                \n",
      "optimal                                                                \n",
      "optimal                                                                \n",
      "optimal                                                                \n",
      "optimal                                                                \n",
      "optimal                                                                \n",
      "optimal                                                                \n",
      "optimal                                                                \n",
      "optimal                                                                \n",
      "optimal                                                                \n",
      "optimal                                                                \n",
      "optimal                                                                \n",
      "optimal                                                                \n",
      "optimal                                                                \n",
      "optimal                                                                \n",
      "optimal                                                                \n",
      "optimal                                                                \n",
      "optimal                                                                \n",
      "optimal                                                                \n",
      "optimal                                                                \n",
      "optimal                                                                \n",
      "optimal                                                                \n",
      "optimal                                                                \n",
      "optimal                                                                \n",
      "optimal                                                                \n",
      "optimal                                                                \n",
      "optimal                                                                \n",
      "optimal                                                                \n",
      "optimal                                                                \n",
      "optimal                                                                \n",
      "optimal                                                                \n",
      "optimal                                                                \n",
      "optimal                                                                \n",
      "optimal                                                                \n",
      "optimal                                                                \n",
      "optimal                                                                \n",
      "optimal                                                                \n",
      "optimal                                                                \n",
      "optimal                                                                \n",
      "optimal                                                                \n",
      "optimal                                                                \n",
      "optimal                                                                \n",
      "optimal                                                                \n",
      "optimal                                                                \n",
      "optimal                                                                \n",
      "optimal                                                                \n",
      "optimal                                                                \n",
      "optimal                                                                \n",
      "optimal                                                                \n",
      "optimal                                                                \n",
      "optimal                                                                \n",
      "optimal                                                                \n",
      "optimal                                                                \n",
      "optimal                                                                \n",
      "optimal                                                                \n",
      "optimal                                                                \n",
      "optimal                                                                \n",
      "optimal                                                                \n",
      "optimal                                                                \n",
      "optimal                                                                \n",
      "optimal                                                                \n",
      "optimal                                                                \n",
      "optimal                                                                \n",
      "optimal                                                                \n",
      "optimal                                                                \n",
      "optimal                                                                \n",
      "optimal                                                                \n",
      "optimal                                                                \n",
      "optimal                                                                \n",
      "optimal                                                                \n",
      "optimal                                                                \n",
      "optimal                                                                \n",
      "optimal                                                                \n",
      "optimal                                                                \n",
      "optimal                                                                \n",
      "optimal                                                                \n",
      "optimal                                                                \n",
      "optimal                                                                \n",
      "optimal                                                                \n",
      "optimal                                                                \n",
      "optimal                                                                \n",
      "optimal                                                                \n",
      "optimal                                                                \n",
      "optimal                                                                \n",
      "optimal                                                                \n",
      "optimal                                                                \n",
      "optimal                                                                \n",
      "optimal                                                                \n",
      "optimal                                                                \n",
      "optimal                                                                \n",
      "optimal                                                                \n",
      "optimal                                                                \n",
      "optimal                                                                \n",
      "optimal                                                                \n",
      "optimal                                                                \n",
      "optimal                                                                \n",
      "optimal                                                                \n",
      "optimal                                                                \n",
      "optimal                                                                \n",
      "optimal                                                                \n",
      "optimal                                                                \n",
      "optimal                                                                \n",
      "optimal                                                                \n",
      "optimal                                                                \n",
      "optimal                                                                \n",
      "optimal                                                                \n",
      "optimal                                                                \n",
      "optimal                                                                \n",
      "optimal                                                                \n",
      "optimal                                                                \n",
      "optimal                                                                \n",
      "optimal                                                                \n",
      "optimal                                                                \n",
      "optimal                                                                \n",
      "optimal                                                                \n",
      "optimal                                                                \n",
      "optimal                                                                \n",
      "optimal                                                                \n",
      "optimal                                                                \n",
      "optimal                                                                \n",
      "optimal                                                                \n",
      "optimal                                                                \n",
      "optimal                                                                \n",
      "optimal                                                                \n",
      "optimal                                                                \n",
      "optimal                                                                \n",
      "optimal                                                                \n",
      "optimal                                                                \n",
      "optimal                                                                \n",
      "optimal                                                                \n",
      "optimal                                                                \n",
      "optimal                                                                \n",
      "optimal                                                                \n",
      "optimal                                                                \n",
      "optimal                                                                \n",
      "optimal                                                                \n",
      "optimal                                                                \n",
      "optimal                                                                \n",
      "optimal                                                                \n",
      "optimal                                                                \n",
      "optimal                                                                \n",
      "optimal                                                                \n",
      "optimal                                                                \n",
      "optimal                                                                \n",
      "100%|██████████| 500/500 [00:27<00:00, 18.33trial/s, best loss: 296.72]\n",
      "Best parameters found:  {'adstock_decay_0': 0.02282806397254904, 'adstock_decay_1': 0.02968201442677163, 'adstock_decay_2': 0.07025084486761271, 'adstock_decay_3': 0.06279297252979495, 'adstock_decay_4': 0.0049641610035639815, 'logistic_lam_0': 2.3631644430536472e-06, 'logistic_lam_1': 1.0646853869325063e-06, 'logistic_lam_2': 1.0156060014909752e-06, 'logistic_lam_3': 0.0007501602475543656, 'logistic_lam_4': 0.00037423592535296347, 'reg_alpha': 0.9503907791007858}\n"
     ]
    }
   ],
   "source": [
    "def objective(params):\n",
    "    \n",
    "    X_adstocked = transform_adstock(X=X,\n",
    "                                    adstock_decays=[params[f\"adstock_decay_{i}\"] for i in range(X.shape[1])])\n",
    "    \n",
    "    X_saturated = transform_logistic(X=X_adstocked,\n",
    "                                     logistic_lams=[params[f\"logistic_lam_{i}\"] for i in range(X.shape[1])])                                     \n",
    "    \n",
    "    X_train = X_saturated[train_idx]\n",
    "    X_transformer = fit_feature_scaler(X_train)\n",
    "    X_train_scaled = apply_feature_scaler(X_transformer, X_train)\n",
    "    X_train_scaled_intercept = add_intercept(X_train_scaled)    \n",
    "\n",
    "    y_train = y[train_idx]\n",
    "#    y_transformer = fit_feature_scaler(y_train.reshape(-1, 1))\n",
    "#    y_train_scaled = apply_feature_scaler(y_transformer, y_train.reshape(-1, 1))\n",
    "    \n",
    "    X_transformer = fit_feature_scaler(X_train)\n",
    "    X_train_scaled = apply_feature_scaler(X_transformer, X_train)\n",
    "    X_train_scaled_intercept = add_intercept(X_train_scaled)\n",
    "    \n",
    "    optimized_coef = train_model(X=X_train_scaled_intercept, \n",
    "                                 y=y_train, \n",
    "                                 reg_alpha=params[\"reg_alpha\"], \n",
    "                                 lower_bounds=lower_bounds, \n",
    "                                 upper_bounds=upper_bounds)\n",
    "    \n",
    "    train_predictions = predict(X_train_scaled_intercept, optimized_coef)\n",
    "    train_rmse = rmse(y_train, train_predictions)\n",
    "    \n",
    "    return train_rmse\n",
    "\n",
    "space = {\n",
    "    'reg_alpha': hp.uniform('reg_alpha', 0.0, 1.0),\n",
    "    \n",
    "    'adstock_decay_0': hp.uniform('adstock_decay_0', 0.0, 0.1),\n",
    "    'adstock_decay_1': hp.uniform('adstock_decay_1', 0.0, 0.1),\n",
    "    'adstock_decay_2': hp.uniform('adstock_decay_2', 0.0, 0.1),\n",
    "    'adstock_decay_3': hp.uniform('adstock_decay_3', 0.0, 0.1),\n",
    "    'adstock_decay_4': hp.uniform('adstock_decay_4', 0.0, 0.1),\n",
    "\n",
    "    'logistic_lam_0': hp.uniform('logistic_lam_0', 1e-6, 1e-3),\n",
    "    'logistic_lam_1': hp.uniform('logistic_lam_1', 1e-6, 1e-3),\n",
    "    'logistic_lam_2': hp.uniform('logistic_lam_2', 1e-6, 1e-3),\n",
    "    'logistic_lam_3': hp.uniform('logistic_lam_3', 1e-6, 1e-3),\n",
    "    'logistic_lam_4': hp.uniform('logistic_lam_4', 1e-6, 1e-3),\n",
    "\n",
    "}\n",
    "\n",
    "trials = Trials()\n",
    "\n",
    "best = fmin(\n",
    "    fn=objective,\n",
    "    space=space,\n",
    "    algo=tpe.suggest,\n",
    "    max_evals=500,\n",
    "    trials=trials\n",
    ")\n",
    "\n",
    "print(\"Best parameters found: \", best)"
   ]
  },
  {
   "cell_type": "markdown",
   "metadata": {},
   "source": [
    "### Final model"
   ]
  },
  {
   "cell_type": "code",
   "execution_count": 89,
   "metadata": {},
   "outputs": [
    {
     "data": {
      "text/plain": [
       "{'adstock_decay_0': 0.0416206519086783,\n",
       " 'adstock_decay_1': 0.057198735864877316,\n",
       " 'adstock_decay_2': 0.014171880716065932,\n",
       " 'adstock_decay_3': 5.468419131546536e-05,\n",
       " 'adstock_decay_4': 0.0018585920406338084,\n",
       " 'logistic_lam_0': 1.4561269194606524e-06,\n",
       " 'logistic_lam_1': 1.6997888188775682e-06,\n",
       " 'logistic_lam_2': 0.0008025929963193943,\n",
       " 'logistic_lam_3': 0.0007883614048612836,\n",
       " 'logistic_lam_4': 0.0004434182973376934,\n",
       " 'reg_alpha': 0.11703477892839252}"
      ]
     },
     "execution_count": 89,
     "metadata": {},
     "output_type": "execute_result"
    }
   ],
   "source": [
    "best"
   ]
  },
  {
   "cell_type": "code",
   "execution_count": 90,
   "metadata": {},
   "outputs": [
    {
     "name": "stdout",
     "output_type": "stream",
     "text": [
      "optimal\n"
     ]
    }
   ],
   "source": [
    "adstock_decays = np.asarray([best[f\"adstock_decay_{i}\"] for i in range(X.shape[1])])\n",
    "logistic_lams = np.asarray([best[f\"logistic_lam_{i}\"] for i in range(X.shape[1])])\n",
    "\n",
    "X_adstocked = transform_adstock(X=X, adstock_decays=adstock_decays)\n",
    "    \n",
    "X_saturated = transform_logistic(X=X_adstocked, logistic_lams=logistic_lams)\n",
    "    \n",
    "X_train = X_saturated[train_idx]\n",
    "X_test = X_saturated[out_of_time_idx]\n",
    "y_train = y[train_idx]\n",
    "y_test = y[out_of_time_idx]\n",
    "    \n",
    "transformer = fit_feature_scaler(X_train)\n",
    "X_train_scaled = apply_feature_scaler(transformer, X_train)\n",
    "X_test_scaled = apply_feature_scaler(transformer, X_test)\n",
    "    \n",
    "X_train_scaled_intercept = add_intercept(X_train_scaled)\n",
    "X_test_scaled_intercept = add_intercept(X_test_scaled)\n",
    "    \n",
    "optimized_coef = train_model(X=X_train_scaled_intercept, \n",
    "                             y=y_train, \n",
    "                             reg_alpha=best[\"reg_alpha\"], \n",
    "                             lower_bounds=lower_bounds, \n",
    "                             upper_bounds=upper_bounds)"
   ]
  },
  {
   "cell_type": "markdown",
   "metadata": {},
   "source": [
    "# Validate model"
   ]
  },
  {
   "cell_type": "markdown",
   "metadata": {},
   "source": [
    "### Model fit"
   ]
  },
  {
   "cell_type": "code",
   "execution_count": 91,
   "metadata": {},
   "outputs": [],
   "source": [
    "train_predictions = predict(X_train_scaled_intercept, optimized_coef)\n",
    "test_predictions = predict(X_test_scaled_intercept, optimized_coef)\n",
    "train_rmse = rmse(y_train, train_predictions)\n",
    "test_rmse = rmse(y_test, test_predictions)"
   ]
  },
  {
   "cell_type": "code",
   "execution_count": 83,
   "metadata": {},
   "outputs": [],
   "source": [
    "# actual vs predicted chart including model fit metrics"
   ]
  },
  {
   "cell_type": "code",
   "execution_count": 92,
   "metadata": {},
   "outputs": [
    {
     "data": {
      "image/png": "[encoded data removed]",
      "text/plain": [
       "<Figure size 1000x600 with 1 Axes>"
      ]
     },
     "metadata": {},
     "output_type": "display_data"
    }
   ],
   "source": [
    "df_train = pd.DataFrame({\n",
    "    'Actual': y_train,\n",
    "    'Predicted': train_predictions,\n",
    "    'Type': 'Train'\n",
    "})\n",
    "\n",
    "df_test = pd.DataFrame({\n",
    "    'Actual': y_test,\n",
    "    'Predicted': test_predictions,\n",
    "    'Type': 'Test'\n",
    "})\n",
    "\n",
    "df = pd.concat([df_train, df_test])\n",
    "df[\"Index\"] = range(len(df))\n",
    "\n",
    "# Plot using seaborn\n",
    "plt.figure(figsize=(10, 6))\n",
    "\n",
    "# Plot actual values\n",
    "sns.lineplot(x='Index', y='Actual', hue='Type', data=df, marker='o', palette={'Train': 'blue', 'Test': 'red'})\n",
    "\n",
    "# Plot predicted values\n",
    "sns.lineplot(x='Index', y='Predicted', hue='Type', data=df, linestyle='--', marker='o', palette={'Train': 'cyan', 'Test': 'orange'})\n",
    "\n",
    "# Formatting\n",
    "plt.xlabel('Date')\n",
    "plt.ylabel('Value')\n",
    "plt.title('Actual vs Predicted Values')\n",
    "plt.legend(title='Type', loc='upper left')\n",
    "plt.grid(True)\n",
    "plt.show()"
   ]
  },
  {
   "cell_type": "markdown",
   "metadata": {},
   "source": [
    "### Model diagnostics"
   ]
  },
  {
   "cell_type": "code",
   "execution_count": 85,
   "metadata": {},
   "outputs": [],
   "source": [
    "# look at pymc marketing"
   ]
  },
  {
   "cell_type": "markdown",
   "metadata": {},
   "source": [
    "### Feature contributions"
   ]
  },
  {
   "cell_type": "code",
   "execution_count": 93,
   "metadata": {},
   "outputs": [],
   "source": [
    "def calculate_contributions(X, optimized_coef):\n",
    "    return X * optimized_coef.reshape(1, -1)"
   ]
  },
  {
   "cell_type": "code",
   "execution_count": 94,
   "metadata": {},
   "outputs": [],
   "source": [
    "train_contributions = calculate_contributions(X_train_scaled_intercept, optimized_coef)"
   ]
  },
  {
   "cell_type": "code",
   "execution_count": 96,
   "metadata": {},
   "outputs": [
    {
     "name": "stdout",
     "output_type": "stream",
     "text": [
      "Intercept: -0.17\n",
      "Feature 1: 0.15\n",
      "Feature 2: 0.41\n",
      "Feature 3: 0.61\n"
     ]
    }
   ],
   "source": [
    "print(f'Intercept: {round(train_contributions[:, 0].sum() / train_predictions.sum(), 2)}')\n",
    "print(f'Feature 1: {round(train_contributions[:, 1].sum() / train_predictions.sum(), 2)}')\n",
    "print(f'Feature 2: {round(train_contributions[:, 2].sum() / train_predictions.sum(), 2)}')\n",
    "print(f'Feature 3: {round(train_contributions[:, 3].sum() / train_predictions.sum(), 2)}')"
   ]
  },
  {
   "cell_type": "code",
   "execution_count": 30,
   "metadata": {},
   "outputs": [],
   "source": [
    "# contribution waterfall"
   ]
  },
  {
   "cell_type": "code",
   "execution_count": 31,
   "metadata": {},
   "outputs": [],
   "source": [
    "# stack chart of contributions over time"
   ]
  },
  {
   "cell_type": "markdown",
   "metadata": {},
   "source": [
    "# Response curves"
   ]
  },
  {
   "cell_type": "markdown",
   "metadata": {},
   "source": [
    "### x"
   ]
  },
  {
   "cell_type": "code",
   "execution_count": 97,
   "metadata": {},
   "outputs": [
    {
     "name": "stdout",
     "output_type": "stream",
     "text": [
      "[0.04162065 0.05719874 0.01417188]\n",
      "[1.45612692e-06 1.69978882e-06 8.02592996e-04]\n",
      "[-334.98559174 1430.81803201 1828.01731856 1577.74742682]\n"
     ]
    }
   ],
   "source": [
    "print(adstock_decays)\n",
    "print(logistic_lams)\n",
    "print(optimized_coef)"
   ]
  },
  {
   "cell_type": "code",
   "execution_count": 33,
   "metadata": {},
   "outputs": [],
   "source": [
    "# create range of spend values from 0 to max spend on channel * 1.2\n",
    "# each spend value needs transforming (adstock, saturation, feature scaling) and the contribution calculating\n",
    "# that should give what is needed for the plot\n",
    "# a second plot where % of budget is on the x-axis would be great too (like from pymc)"
   ]
  },
  {
   "cell_type": "code",
   "execution_count": 98,
   "metadata": {},
   "outputs": [
    {
     "data": {
      "text/plain": [
       "111"
      ]
     },
     "execution_count": 98,
     "metadata": {},
     "output_type": "execute_result"
    }
   ],
   "source": [
    "np.sum(transform_adstock(np.array([[100], [0], [0]]), [0.1]))"
   ]
  },
  {
   "cell_type": "code",
   "execution_count": null,
   "metadata": {},
   "outputs": [],
   "source": []
  },
  {
   "cell_type": "markdown",
   "metadata": {},
   "source": [
    "# Calibration"
   ]
  },
  {
   "cell_type": "markdown",
   "metadata": {},
   "source": [
    "### x"
   ]
  },
  {
   "cell_type": "code",
   "execution_count": null,
   "metadata": {},
   "outputs": [],
   "source": []
  },
  {
   "cell_type": "markdown",
   "metadata": {},
   "source": [
    "# Budget optimisation"
   ]
  },
  {
   "cell_type": "markdown",
   "metadata": {},
   "source": [
    "### x"
   ]
  },
  {
   "cell_type": "code",
   "execution_count": null,
   "metadata": {},
   "outputs": [],
   "source": []
  }
 ],
 "metadata": {
  "kernelspec": {
   "display_name": "venv",
   "language": "python",
   "name": "python3"
  },
  "language_info": {
   "codemirror_mode": {
    "name": "ipython",
    "version": 3
   },
   "file_extension": ".py",
   "mimetype": "text/x-python",
   "name": "python",
   "nbconvert_exporter": "python",
   "pygments_lexer": "ipython3",
   "version": "3.11.4"
  }
 },
 "nbformat": 4,
 "nbformat_minor": 2
}
